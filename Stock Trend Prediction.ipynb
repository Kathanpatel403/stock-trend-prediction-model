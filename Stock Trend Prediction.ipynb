{
 "cells": [
  {
   "cell_type": "code",
   "execution_count": 1,
   "id": "794704e4",
   "metadata": {},
   "outputs": [],
   "source": [
    "import math\n",
    "import datetime\n",
    "import pandas as pd\n",
    "import numpy as np\n",
    "from sklearn import preprocessing\n",
    "from sklearn.svm import SVR\n",
    "from sklearn.model_selection import train_test_split\n",
    "from sklearn.linear_model import LinearRegression\n",
    "import matplotlib.pyplot as plt\n",
    "from matplotlib import style"
   ]
  },
  {
   "cell_type": "code",
   "execution_count": 2,
   "id": "dc55ad28",
   "metadata": {},
   "outputs": [
    {
     "data": {
      "text/html": [
       "<div>\n",
       "<style scoped>\n",
       "    .dataframe tbody tr th:only-of-type {\n",
       "        vertical-align: middle;\n",
       "    }\n",
       "\n",
       "    .dataframe tbody tr th {\n",
       "        vertical-align: top;\n",
       "    }\n",
       "\n",
       "    .dataframe thead th {\n",
       "        text-align: right;\n",
       "    }\n",
       "</style>\n",
       "<table border=\"1\" class=\"dataframe\">\n",
       "  <thead>\n",
       "    <tr style=\"text-align: right;\">\n",
       "      <th></th>\n",
       "      <th>open</th>\n",
       "      <th>high</th>\n",
       "      <th>low</th>\n",
       "      <th>close</th>\n",
       "      <th>adjclose</th>\n",
       "      <th>volume</th>\n",
       "      <th>ticker</th>\n",
       "    </tr>\n",
       "  </thead>\n",
       "  <tbody>\n",
       "    <tr>\n",
       "      <th>2012-05-18</th>\n",
       "      <td>42.049999</td>\n",
       "      <td>45.000000</td>\n",
       "      <td>38.000000</td>\n",
       "      <td>38.230000</td>\n",
       "      <td>38.230000</td>\n",
       "      <td>573576400</td>\n",
       "      <td>META</td>\n",
       "    </tr>\n",
       "    <tr>\n",
       "      <th>2012-05-21</th>\n",
       "      <td>36.529999</td>\n",
       "      <td>36.660000</td>\n",
       "      <td>33.000000</td>\n",
       "      <td>34.029999</td>\n",
       "      <td>34.029999</td>\n",
       "      <td>168192700</td>\n",
       "      <td>META</td>\n",
       "    </tr>\n",
       "    <tr>\n",
       "      <th>2012-05-22</th>\n",
       "      <td>32.610001</td>\n",
       "      <td>33.590000</td>\n",
       "      <td>30.940001</td>\n",
       "      <td>31.000000</td>\n",
       "      <td>31.000000</td>\n",
       "      <td>101786600</td>\n",
       "      <td>META</td>\n",
       "    </tr>\n",
       "    <tr>\n",
       "      <th>2012-05-23</th>\n",
       "      <td>31.370001</td>\n",
       "      <td>32.500000</td>\n",
       "      <td>31.360001</td>\n",
       "      <td>32.000000</td>\n",
       "      <td>32.000000</td>\n",
       "      <td>73600000</td>\n",
       "      <td>META</td>\n",
       "    </tr>\n",
       "    <tr>\n",
       "      <th>2012-05-24</th>\n",
       "      <td>32.950001</td>\n",
       "      <td>33.209999</td>\n",
       "      <td>31.770000</td>\n",
       "      <td>33.029999</td>\n",
       "      <td>33.029999</td>\n",
       "      <td>50237200</td>\n",
       "      <td>META</td>\n",
       "    </tr>\n",
       "  </tbody>\n",
       "</table>\n",
       "</div>"
      ],
      "text/plain": [
       "                 open       high        low      close   adjclose     volume   \n",
       "2012-05-18  42.049999  45.000000  38.000000  38.230000  38.230000  573576400  \\\n",
       "2012-05-21  36.529999  36.660000  33.000000  34.029999  34.029999  168192700   \n",
       "2012-05-22  32.610001  33.590000  30.940001  31.000000  31.000000  101786600   \n",
       "2012-05-23  31.370001  32.500000  31.360001  32.000000  32.000000   73600000   \n",
       "2012-05-24  32.950001  33.209999  31.770000  33.029999  33.029999   50237200   \n",
       "\n",
       "           ticker  \n",
       "2012-05-18   META  \n",
       "2012-05-21   META  \n",
       "2012-05-22   META  \n",
       "2012-05-23   META  \n",
       "2012-05-24   META  "
      ]
     },
     "execution_count": 2,
     "metadata": {},
     "output_type": "execute_result"
    }
   ],
   "source": [
    "from yahoo_fin.stock_info import get_data\n",
    "df= get_data(\"META\", start_date=\"01/01/2000\", end_date=\"31/12/2022\", index_as_date = True, interval=\"1d\")\n",
    "df.head()"
   ]
  },
  {
   "cell_type": "code",
   "execution_count": 3,
   "id": "a607d4b1",
   "metadata": {},
   "outputs": [],
   "source": [
    "df = df[['open', 'high', 'low', 'close', 'volume']]"
   ]
  },
  {
   "cell_type": "code",
   "execution_count": 4,
   "id": "033deb8d",
   "metadata": {},
   "outputs": [],
   "source": [
    "# High minus low percent: \n",
    "df['hl_pct'] = (df['high'] - df['close']) / df['close'] * 100\n",
    "df['pct_change'] = (df['close'] - df['open']) / df['open'] * 100"
   ]
  },
  {
   "cell_type": "code",
   "execution_count": 5,
   "id": "b1495c12",
   "metadata": {},
   "outputs": [
    {
     "data": {
      "text/html": [
       "<div>\n",
       "<style scoped>\n",
       "    .dataframe tbody tr th:only-of-type {\n",
       "        vertical-align: middle;\n",
       "    }\n",
       "\n",
       "    .dataframe tbody tr th {\n",
       "        vertical-align: top;\n",
       "    }\n",
       "\n",
       "    .dataframe thead th {\n",
       "        text-align: right;\n",
       "    }\n",
       "</style>\n",
       "<table border=\"1\" class=\"dataframe\">\n",
       "  <thead>\n",
       "    <tr style=\"text-align: right;\">\n",
       "      <th></th>\n",
       "      <th>open</th>\n",
       "      <th>high</th>\n",
       "      <th>low</th>\n",
       "      <th>close</th>\n",
       "      <th>volume</th>\n",
       "      <th>hl_pct</th>\n",
       "      <th>pct_change</th>\n",
       "    </tr>\n",
       "  </thead>\n",
       "  <tbody>\n",
       "    <tr>\n",
       "      <th>2012-05-18</th>\n",
       "      <td>42.049999</td>\n",
       "      <td>45.000000</td>\n",
       "      <td>38.000000</td>\n",
       "      <td>38.230000</td>\n",
       "      <td>573576400</td>\n",
       "      <td>17.708607</td>\n",
       "      <td>-9.084423</td>\n",
       "    </tr>\n",
       "    <tr>\n",
       "      <th>2012-05-21</th>\n",
       "      <td>36.529999</td>\n",
       "      <td>36.660000</td>\n",
       "      <td>33.000000</td>\n",
       "      <td>34.029999</td>\n",
       "      <td>168192700</td>\n",
       "      <td>7.728478</td>\n",
       "      <td>-6.843690</td>\n",
       "    </tr>\n",
       "    <tr>\n",
       "      <th>2012-05-22</th>\n",
       "      <td>32.610001</td>\n",
       "      <td>33.590000</td>\n",
       "      <td>30.940001</td>\n",
       "      <td>31.000000</td>\n",
       "      <td>101786600</td>\n",
       "      <td>8.354839</td>\n",
       "      <td>-4.937138</td>\n",
       "    </tr>\n",
       "    <tr>\n",
       "      <th>2012-05-23</th>\n",
       "      <td>31.370001</td>\n",
       "      <td>32.500000</td>\n",
       "      <td>31.360001</td>\n",
       "      <td>32.000000</td>\n",
       "      <td>73600000</td>\n",
       "      <td>1.562500</td>\n",
       "      <td>2.008285</td>\n",
       "    </tr>\n",
       "    <tr>\n",
       "      <th>2012-05-24</th>\n",
       "      <td>32.950001</td>\n",
       "      <td>33.209999</td>\n",
       "      <td>31.770000</td>\n",
       "      <td>33.029999</td>\n",
       "      <td>50237200</td>\n",
       "      <td>0.544960</td>\n",
       "      <td>0.242786</td>\n",
       "    </tr>\n",
       "  </tbody>\n",
       "</table>\n",
       "</div>"
      ],
      "text/plain": [
       "                 open       high        low      close     volume     hl_pct   \n",
       "2012-05-18  42.049999  45.000000  38.000000  38.230000  573576400  17.708607  \\\n",
       "2012-05-21  36.529999  36.660000  33.000000  34.029999  168192700   7.728478   \n",
       "2012-05-22  32.610001  33.590000  30.940001  31.000000  101786600   8.354839   \n",
       "2012-05-23  31.370001  32.500000  31.360001  32.000000   73600000   1.562500   \n",
       "2012-05-24  32.950001  33.209999  31.770000  33.029999   50237200   0.544960   \n",
       "\n",
       "            pct_change  \n",
       "2012-05-18   -9.084423  \n",
       "2012-05-21   -6.843690  \n",
       "2012-05-22   -4.937138  \n",
       "2012-05-23    2.008285  \n",
       "2012-05-24    0.242786  "
      ]
     },
     "execution_count": 5,
     "metadata": {},
     "output_type": "execute_result"
    }
   ],
   "source": [
    "df.head()"
   ]
  },
  {
   "cell_type": "code",
   "execution_count": 6,
   "id": "f1c200ac",
   "metadata": {},
   "outputs": [
    {
     "data": {
      "text/html": [
       "<div>\n",
       "<style scoped>\n",
       "    .dataframe tbody tr th:only-of-type {\n",
       "        vertical-align: middle;\n",
       "    }\n",
       "\n",
       "    .dataframe tbody tr th {\n",
       "        vertical-align: top;\n",
       "    }\n",
       "\n",
       "    .dataframe thead th {\n",
       "        text-align: right;\n",
       "    }\n",
       "</style>\n",
       "<table border=\"1\" class=\"dataframe\">\n",
       "  <thead>\n",
       "    <tr style=\"text-align: right;\">\n",
       "      <th></th>\n",
       "      <th>close</th>\n",
       "      <th>hl_pct</th>\n",
       "      <th>pct_change</th>\n",
       "      <th>volume</th>\n",
       "    </tr>\n",
       "  </thead>\n",
       "  <tbody>\n",
       "    <tr>\n",
       "      <th>2012-05-18</th>\n",
       "      <td>38.230000</td>\n",
       "      <td>17.708607</td>\n",
       "      <td>-9.084423</td>\n",
       "      <td>573576400</td>\n",
       "    </tr>\n",
       "    <tr>\n",
       "      <th>2012-05-21</th>\n",
       "      <td>34.029999</td>\n",
       "      <td>7.728478</td>\n",
       "      <td>-6.843690</td>\n",
       "      <td>168192700</td>\n",
       "    </tr>\n",
       "    <tr>\n",
       "      <th>2012-05-22</th>\n",
       "      <td>31.000000</td>\n",
       "      <td>8.354839</td>\n",
       "      <td>-4.937138</td>\n",
       "      <td>101786600</td>\n",
       "    </tr>\n",
       "    <tr>\n",
       "      <th>2012-05-23</th>\n",
       "      <td>32.000000</td>\n",
       "      <td>1.562500</td>\n",
       "      <td>2.008285</td>\n",
       "      <td>73600000</td>\n",
       "    </tr>\n",
       "    <tr>\n",
       "      <th>2012-05-24</th>\n",
       "      <td>33.029999</td>\n",
       "      <td>0.544960</td>\n",
       "      <td>0.242786</td>\n",
       "      <td>50237200</td>\n",
       "    </tr>\n",
       "  </tbody>\n",
       "</table>\n",
       "</div>"
      ],
      "text/plain": [
       "                close     hl_pct  pct_change     volume\n",
       "2012-05-18  38.230000  17.708607   -9.084423  573576400\n",
       "2012-05-21  34.029999   7.728478   -6.843690  168192700\n",
       "2012-05-22  31.000000   8.354839   -4.937138  101786600\n",
       "2012-05-23  32.000000   1.562500    2.008285   73600000\n",
       "2012-05-24  33.029999   0.544960    0.242786   50237200"
      ]
     },
     "execution_count": 6,
     "metadata": {},
     "output_type": "execute_result"
    }
   ],
   "source": [
    "df = df[['close', 'hl_pct', 'pct_change', 'volume']]\n",
    "df.head()"
   ]
  },
  {
   "cell_type": "code",
   "execution_count": 7,
   "id": "3af5e387",
   "metadata": {},
   "outputs": [
    {
     "data": {
      "text/plain": [
       "81"
      ]
     },
     "execution_count": 7,
     "metadata": {},
     "output_type": "execute_result"
    }
   ],
   "source": [
    "forcast_col = 'close'\n",
    "df.fillna(-99999, inplace=True)\n",
    "\n",
    "forcast_out = int(math.ceil(0.03*len(df)))\n",
    "forcast_out"
   ]
  },
  {
   "cell_type": "code",
   "execution_count": 8,
   "id": "aded98d8",
   "metadata": {},
   "outputs": [
    {
     "data": {
      "text/html": [
       "<div>\n",
       "<style scoped>\n",
       "    .dataframe tbody tr th:only-of-type {\n",
       "        vertical-align: middle;\n",
       "    }\n",
       "\n",
       "    .dataframe tbody tr th {\n",
       "        vertical-align: top;\n",
       "    }\n",
       "\n",
       "    .dataframe thead th {\n",
       "        text-align: right;\n",
       "    }\n",
       "</style>\n",
       "<table border=\"1\" class=\"dataframe\">\n",
       "  <thead>\n",
       "    <tr style=\"text-align: right;\">\n",
       "      <th></th>\n",
       "      <th>close</th>\n",
       "      <th>hl_pct</th>\n",
       "      <th>pct_change</th>\n",
       "      <th>volume</th>\n",
       "      <th>label</th>\n",
       "    </tr>\n",
       "  </thead>\n",
       "  <tbody>\n",
       "    <tr>\n",
       "      <th>2022-12-23</th>\n",
       "      <td>118.040001</td>\n",
       "      <td>0.118603</td>\n",
       "      <td>1.732312</td>\n",
       "      <td>17796600</td>\n",
       "      <td>NaN</td>\n",
       "    </tr>\n",
       "    <tr>\n",
       "      <th>2022-12-27</th>\n",
       "      <td>116.879997</td>\n",
       "      <td>1.471596</td>\n",
       "      <td>-0.890361</td>\n",
       "      <td>21392300</td>\n",
       "      <td>NaN</td>\n",
       "    </tr>\n",
       "    <tr>\n",
       "      <th>2022-12-28</th>\n",
       "      <td>115.620003</td>\n",
       "      <td>2.188202</td>\n",
       "      <td>-0.541933</td>\n",
       "      <td>19612500</td>\n",
       "      <td>NaN</td>\n",
       "    </tr>\n",
       "    <tr>\n",
       "      <th>2022-12-29</th>\n",
       "      <td>120.260002</td>\n",
       "      <td>0.640277</td>\n",
       "      <td>3.316152</td>\n",
       "      <td>22366200</td>\n",
       "      <td>NaN</td>\n",
       "    </tr>\n",
       "    <tr>\n",
       "      <th>2022-12-30</th>\n",
       "      <td>120.339996</td>\n",
       "      <td>0.066480</td>\n",
       "      <td>1.844950</td>\n",
       "      <td>19583800</td>\n",
       "      <td>NaN</td>\n",
       "    </tr>\n",
       "  </tbody>\n",
       "</table>\n",
       "</div>"
      ],
      "text/plain": [
       "                 close    hl_pct  pct_change    volume  label\n",
       "2022-12-23  118.040001  0.118603    1.732312  17796600    NaN\n",
       "2022-12-27  116.879997  1.471596   -0.890361  21392300    NaN\n",
       "2022-12-28  115.620003  2.188202   -0.541933  19612500    NaN\n",
       "2022-12-29  120.260002  0.640277    3.316152  22366200    NaN\n",
       "2022-12-30  120.339996  0.066480    1.844950  19583800    NaN"
      ]
     },
     "execution_count": 8,
     "metadata": {},
     "output_type": "execute_result"
    }
   ],
   "source": [
    "df['label'] = df[forcast_col].shift(-forcast_out) \n",
    "df.tail()"
   ]
  },
  {
   "cell_type": "code",
   "execution_count": 9,
   "id": "b37fc965",
   "metadata": {},
   "outputs": [
    {
     "data": {
      "text/plain": [
       "(2673, 5)"
      ]
     },
     "execution_count": 9,
     "metadata": {},
     "output_type": "execute_result"
    }
   ],
   "source": [
    "df.shape"
   ]
  },
  {
   "cell_type": "code",
   "execution_count": 10,
   "id": "11867c77",
   "metadata": {},
   "outputs": [],
   "source": [
    "X = np.array(df.drop(['label'], axis=1))\n",
    "X = preprocessing.scale(X)\n",
    "X = X[:-forcast_out]\n",
    "X_lately = X[-forcast_out:]\n",
    "\n",
    "\n",
    "df.dropna(inplace=True)\n",
    "y = np.array(df['label'])"
   ]
  },
  {
   "cell_type": "code",
   "execution_count": 11,
   "id": "4e8aa102",
   "metadata": {},
   "outputs": [
    {
     "name": "stdout",
     "output_type": "stream",
     "text": [
      "2592 2592\n"
     ]
    }
   ],
   "source": [
    "df.dropna(inplace=True)\n",
    "print(len(X), len(y))"
   ]
  },
  {
   "cell_type": "code",
   "execution_count": 12,
   "id": "4571fda7",
   "metadata": {},
   "outputs": [
    {
     "name": "stdout",
     "output_type": "stream",
     "text": [
      "2073 519 2073 519\n"
     ]
    }
   ],
   "source": [
    "X_train, X_test, y_train, y_test = train_test_split(X, y, test_size=0.2)\n",
    "print(len(X_train), len(X_test), len(y_train), len(y_test))"
   ]
  },
  {
   "cell_type": "code",
   "execution_count": 13,
   "id": "4176e10f",
   "metadata": {},
   "outputs": [
    {
     "data": {
      "text/html": [
       "<style>#sk-container-id-1 {color: black;background-color: white;}#sk-container-id-1 pre{padding: 0;}#sk-container-id-1 div.sk-toggleable {background-color: white;}#sk-container-id-1 label.sk-toggleable__label {cursor: pointer;display: block;width: 100%;margin-bottom: 0;padding: 0.3em;box-sizing: border-box;text-align: center;}#sk-container-id-1 label.sk-toggleable__label-arrow:before {content: \"▸\";float: left;margin-right: 0.25em;color: #696969;}#sk-container-id-1 label.sk-toggleable__label-arrow:hover:before {color: black;}#sk-container-id-1 div.sk-estimator:hover label.sk-toggleable__label-arrow:before {color: black;}#sk-container-id-1 div.sk-toggleable__content {max-height: 0;max-width: 0;overflow: hidden;text-align: left;background-color: #f0f8ff;}#sk-container-id-1 div.sk-toggleable__content pre {margin: 0.2em;color: black;border-radius: 0.25em;background-color: #f0f8ff;}#sk-container-id-1 input.sk-toggleable__control:checked~div.sk-toggleable__content {max-height: 200px;max-width: 100%;overflow: auto;}#sk-container-id-1 input.sk-toggleable__control:checked~label.sk-toggleable__label-arrow:before {content: \"▾\";}#sk-container-id-1 div.sk-estimator input.sk-toggleable__control:checked~label.sk-toggleable__label {background-color: #d4ebff;}#sk-container-id-1 div.sk-label input.sk-toggleable__control:checked~label.sk-toggleable__label {background-color: #d4ebff;}#sk-container-id-1 input.sk-hidden--visually {border: 0;clip: rect(1px 1px 1px 1px);clip: rect(1px, 1px, 1px, 1px);height: 1px;margin: -1px;overflow: hidden;padding: 0;position: absolute;width: 1px;}#sk-container-id-1 div.sk-estimator {font-family: monospace;background-color: #f0f8ff;border: 1px dotted black;border-radius: 0.25em;box-sizing: border-box;margin-bottom: 0.5em;}#sk-container-id-1 div.sk-estimator:hover {background-color: #d4ebff;}#sk-container-id-1 div.sk-parallel-item::after {content: \"\";width: 100%;border-bottom: 1px solid gray;flex-grow: 1;}#sk-container-id-1 div.sk-label:hover label.sk-toggleable__label {background-color: #d4ebff;}#sk-container-id-1 div.sk-serial::before {content: \"\";position: absolute;border-left: 1px solid gray;box-sizing: border-box;top: 0;bottom: 0;left: 50%;z-index: 0;}#sk-container-id-1 div.sk-serial {display: flex;flex-direction: column;align-items: center;background-color: white;padding-right: 0.2em;padding-left: 0.2em;position: relative;}#sk-container-id-1 div.sk-item {position: relative;z-index: 1;}#sk-container-id-1 div.sk-parallel {display: flex;align-items: stretch;justify-content: center;background-color: white;position: relative;}#sk-container-id-1 div.sk-item::before, #sk-container-id-1 div.sk-parallel-item::before {content: \"\";position: absolute;border-left: 1px solid gray;box-sizing: border-box;top: 0;bottom: 0;left: 50%;z-index: -1;}#sk-container-id-1 div.sk-parallel-item {display: flex;flex-direction: column;z-index: 1;position: relative;background-color: white;}#sk-container-id-1 div.sk-parallel-item:first-child::after {align-self: flex-end;width: 50%;}#sk-container-id-1 div.sk-parallel-item:last-child::after {align-self: flex-start;width: 50%;}#sk-container-id-1 div.sk-parallel-item:only-child::after {width: 0;}#sk-container-id-1 div.sk-dashed-wrapped {border: 1px dashed gray;margin: 0 0.4em 0.5em 0.4em;box-sizing: border-box;padding-bottom: 0.4em;background-color: white;}#sk-container-id-1 div.sk-label label {font-family: monospace;font-weight: bold;display: inline-block;line-height: 1.2em;}#sk-container-id-1 div.sk-label-container {text-align: center;}#sk-container-id-1 div.sk-container {/* jupyter's `normalize.less` sets `[hidden] { display: none; }` but bootstrap.min.css set `[hidden] { display: none !important; }` so we also need the `!important` here to be able to override the default hidden behavior on the sphinx rendered scikit-learn.org. See: https://github.com/scikit-learn/scikit-learn/issues/21755 */display: inline-block !important;position: relative;}#sk-container-id-1 div.sk-text-repr-fallback {display: none;}</style><div id=\"sk-container-id-1\" class=\"sk-top-container\"><div class=\"sk-text-repr-fallback\"><pre>LinearRegression(n_jobs=-1)</pre><b>In a Jupyter environment, please rerun this cell to show the HTML representation or trust the notebook. <br />On GitHub, the HTML representation is unable to render, please try loading this page with nbviewer.org.</b></div><div class=\"sk-container\" hidden><div class=\"sk-item\"><div class=\"sk-estimator sk-toggleable\"><input class=\"sk-toggleable__control sk-hidden--visually\" id=\"sk-estimator-id-1\" type=\"checkbox\" checked><label for=\"sk-estimator-id-1\" class=\"sk-toggleable__label sk-toggleable__label-arrow\">LinearRegression</label><div class=\"sk-toggleable__content\"><pre>LinearRegression(n_jobs=-1)</pre></div></div></div></div></div>"
      ],
      "text/plain": [
       "LinearRegression(n_jobs=-1)"
      ]
     },
     "execution_count": 13,
     "metadata": {},
     "output_type": "execute_result"
    }
   ],
   "source": [
    "model = LinearRegression(n_jobs=-1)\n",
    "model.fit(X_train, y_train)"
   ]
  },
  {
   "cell_type": "code",
   "execution_count": 14,
   "id": "493974fe",
   "metadata": {},
   "outputs": [
    {
     "data": {
      "text/plain": [
       "0.8248878406156885"
      ]
     },
     "execution_count": 14,
     "metadata": {},
     "output_type": "execute_result"
    }
   ],
   "source": [
    "accuracy = model.score(X_test, y_test)\n",
    "accuracy"
   ]
  },
  {
   "cell_type": "code",
   "execution_count": 15,
   "id": "45f81fab",
   "metadata": {},
   "outputs": [
    {
     "data": {
      "text/plain": [
       "array([187.66804162, 185.60228399, 194.30649197, 195.62226879,\n",
       "       199.61097433, 192.35766782, 189.55562308, 191.17465664,\n",
       "       194.15385603, 177.56165968, 181.65860881, 187.12717072,\n",
       "       192.55088337, 191.94162441, 187.22239312, 191.68119984,\n",
       "       191.32571831, 191.62507167, 193.35692493, 193.56947826,\n",
       "       184.6618085 , 177.49526838, 166.41708088, 166.08368876,\n",
       "       168.80035589, 163.55480598, 163.8335976 , 158.21944602,\n",
       "       156.28604519, 158.35115078, 162.46316697, 170.8888473 ,\n",
       "       164.40632498, 165.06998094, 162.04642416, 162.00445303,\n",
       "       164.8697937 , 170.52255414, 172.33269966, 172.34618453,\n",
       "       166.4320029 , 166.74847531, 165.02190879, 161.52891258,\n",
       "       165.16505979, 168.06290167, 174.08077437, 180.72756   ,\n",
       "       181.74849404, 168.90103085, 168.59078452, 162.9068393 ,\n",
       "       165.42858049, 157.40682152, 158.96539668, 158.23102363,\n",
       "       161.28197499, 166.77379063, 170.87415761, 167.82567029,\n",
       "       168.85024901, 171.04035211, 176.8349499 , 177.96157115,\n",
       "       181.22746876, 181.41164135, 180.07054621, 176.52395906,\n",
       "       176.08422716, 169.58352372, 166.64970085, 164.26982134,\n",
       "       164.41847036, 170.07266322, 165.15317861, 162.38530796,\n",
       "       161.28620478, 164.01598059, 165.5935689 , 164.60665715,\n",
       "       162.1332159 ])"
      ]
     },
     "execution_count": 15,
     "metadata": {},
     "output_type": "execute_result"
    }
   ],
   "source": [
    "forcast_set = model.predict(X_lately)\n",
    "forcast_set"
   ]
  },
  {
   "cell_type": "code",
   "execution_count": 16,
   "id": "7f951242",
   "metadata": {
    "scrolled": true
   },
   "outputs": [
    {
     "name": "stdout",
     "output_type": "stream",
     "text": [
      "0.8248878406156885 81\n"
     ]
    }
   ],
   "source": [
    "print(accuracy, forcast_out)"
   ]
  },
  {
   "cell_type": "code",
   "execution_count": 17,
   "id": "70bcb993",
   "metadata": {},
   "outputs": [],
   "source": [
    "style.use('ggplot')"
   ]
  },
  {
   "cell_type": "code",
   "execution_count": 18,
   "id": "6b2f9c0b",
   "metadata": {},
   "outputs": [
    {
     "data": {
      "text/plain": [
       "2022-08-30   NaN\n",
       "2022-08-31   NaN\n",
       "2022-09-01   NaN\n",
       "2022-09-02   NaN\n",
       "2022-09-06   NaN\n",
       "Name: Forecast, dtype: float64"
      ]
     },
     "execution_count": 18,
     "metadata": {},
     "output_type": "execute_result"
    }
   ],
   "source": [
    "df['Forecast'] = np.nan\n",
    "df['Forecast'].tail()"
   ]
  },
  {
   "cell_type": "code",
   "execution_count": 19,
   "id": "a940f37a",
   "metadata": {},
   "outputs": [],
   "source": [
    "last_date = df.iloc[-1].name\n",
    "last_unix = last_date.timestamp()\n",
    "one_day = 86400\n",
    "next_unix = last_unix + one_day "
   ]
  },
  {
   "cell_type": "code",
   "execution_count": 21,
   "id": "223e48e1",
   "metadata": {},
   "outputs": [
    {
     "data": {
      "text/plain": [
       "2023-02-11 05:30:00    161.286205\n",
       "2023-02-12 05:30:00    164.015981\n",
       "2023-02-13 05:30:00    165.593569\n",
       "2023-02-14 05:30:00    164.606657\n",
       "2023-02-15 05:30:00    162.133216\n",
       "Name: Forecast, dtype: float64"
      ]
     },
     "execution_count": 21,
     "metadata": {},
     "output_type": "execute_result"
    }
   ],
   "source": [
    "for i in forcast_set:\n",
    "    next_date = datetime.datetime.fromtimestamp(next_unix)\n",
    "    next_unix += one_day\n",
    "    df.loc[next_date] = [np.nan for _ in range(len(df.columns)-1)] + [i]\n",
    "\n",
    "df['Forecast'].tail()"
   ]
  },
  {
   "cell_type": "code",
   "execution_count": 22,
   "id": "581471a1",
   "metadata": {},
   "outputs": [
    {
     "data": {
      "image/png": "[encoded data removed]",
      "text/plain": [
       "<Figure size 640x480 with 1 Axes>"
      ]
     },
     "metadata": {},
     "output_type": "display_data"
    }
   ],
   "source": [
    "df['close'].plot()\n",
    "df['Forecast'].plot()\n",
    "plt.legend(loc=4)\n",
    "plt.xlabel('Date')\n",
    "plt.ylabel('Price')\n",
    "plt.show()"
   ]
  },
  {
   "cell_type": "code",
   "execution_count": 21,
   "id": "d1dfcd26",
   "metadata": {},
   "outputs": [],
   "source": [
    "import pickle\n",
    "pickle.dump(model, open('model.pkl', 'wb'))"
   ]
  },
  {
   "cell_type": "code",
   "execution_count": null,
   "id": "da990a4a",
   "metadata": {},
   "outputs": [],
   "source": []
  }
 ],
 "metadata": {
  "kernelspec": {
   "display_name": "Python 3 (ipykernel)",
   "language": "python",
   "name": "python3"
  },
  "language_info": {
   "codemirror_mode": {
    "name": "ipython",
    "version": 3
   },
   "file_extension": ".py",
   "mimetype": "text/x-python",
   "name": "python",
   "nbconvert_exporter": "python",
   "pygments_lexer": "ipython3",
   "version": "3.10.5"
  }
 },
 "nbformat": 4,
 "nbformat_minor": 5
}
